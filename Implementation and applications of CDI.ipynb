{
 "cells": [
  {
   "cell_type": "markdown",
   "metadata": {},
   "source": [
    "## Description"
   ]
  },
  {
   "cell_type": "markdown",
   "metadata": {},
   "source": [
    "This notebook contains a reproduction of case studies from the article *The Clade Displacement Index: how to detect hotizontal gene transfers in unrooted gene trees* by Michał Aleksander Ciach (Faculty of Mathematics, Informatics and Mechanics, University of Warsaw; m.ciach@mimuw.edu.pl).  \n",
    "\n",
    "We analyze homologous families of two proteins of a parasitic plant *Striga hermonthica* using the Clade Displacement Index (CDI).  \n",
    "The first protein is putatively transferred from one of *Striga*'s hosts, while the second protein shows no evidence of horizontal gene transfer (HGT) in its evolutionary history.  \n",
    "We also use CDI to analyze the stability of topology of the estimated gene trees, in particular the stability of location of the *Striga* clade.  \n",
    "\n",
    "Before the analysis, run the section *Module imports & function definitions* at the bottom of this notebook.  "
   ]
  },
  {
   "cell_type": "markdown",
   "metadata": {},
   "source": [
    "## Protein BAJ06366.1; Horizontal gene transfer"
   ]
  },
  {
   "cell_type": "markdown",
   "metadata": {},
   "source": [
    "This protein was reported to be transferred from *Striga*'s host, *Sorghum bicolor*.  \n",
    "We have selected several of its homologs found with the BlastP suite and generated their gene tree.  \n",
    "We have included homologs from *Setaria* species, which are more similar to *BAJ06366.1* than *Sorghum*'s homologs, but were not included in the original study (The *Setaria* species were sequenced after the study was published).  \n",
    "Our analysis shows that BAJ06366.1 was likely to be transferred from *Setaria*, a close relative of *Sorghum*. "
   ]
  },
  {
   "cell_type": "markdown",
   "metadata": {},
   "source": [
    "**Loading the data**"
   ]
  },
  {
   "cell_type": "markdown",
   "metadata": {},
   "source": [
    "Load the table mapping the Protein Accessions to the TaxIDs of their organisms:"
   ]
  },
  {
   "cell_type": "code",
   "execution_count": 18,
   "metadata": {},
   "outputs": [],
   "source": [
    "taxid_table = 'Data/BAJ06366.1_taxid_table.tsv'\n",
    "taxid_table = [l.strip().split() for l in open(taxid_table)]"
   ]
  },
  {
   "cell_type": "markdown",
   "metadata": {},
   "source": [
    "Create mappings between TaxIDs and Accessions:"
   ]
  },
  {
   "cell_type": "code",
   "execution_count": 19,
   "metadata": {},
   "outputs": [],
   "source": [
    "taxids = [t for a,t in taxid_table]\n",
    "tx_to_acc = {t:a for a,t in taxid_table}\n",
    "acc_to_tx = {a:t for a,t in taxid_table}"
   ]
  },
  {
   "cell_type": "markdown",
   "metadata": {},
   "source": [
    "Load the species tree $S$:"
   ]
  },
  {
   "cell_type": "code",
   "execution_count": 122,
   "metadata": {},
   "outputs": [],
   "source": [
    "S = Tree('Data/BAJ06366.1.speciestree')"
   ]
  },
  {
   "cell_type": "code",
   "execution_count": 123,
   "metadata": {},
   "outputs": [],
   "source": [
    "### Alternatively, to download the species tree from a local copy of the NCBI Taxonomy database\n",
    "### and save it to Data/BAJ06366.1.speciestree file:\n",
    "\n",
    "# from ete3 import NCBITaxa\n",
    "# ncbi = NCBITaxa()\n",
    "# S = ncbi.get_topology(taxids)\n",
    "# S.write(outfile='Data/BAJ06366.1.speciestree', format=8, features=['sci_name'])"
   ]
  },
  {
   "cell_type": "code",
   "execution_count": 124,
   "metadata": {},
   "outputs": [
    {
     "name": "stdout",
     "output_type": "stream",
     "text": [
      "\n",
      "                  /-Brachypodium distachyon\n",
      "          /Pooideae\n",
      "         |       |        /-Triticum aestivum\n",
      "         |        \\Triticum\n",
      "   /Poaceae               \\-Triticum dicoccoides\n",
      "  |      |\n",
      "  |      |                  /-Setaria italica\n",
      "  |      |           /Setaria\n",
      "--|       \\Panicoideae      \\-Setaria viridis\n",
      "  |                 |\n",
      "  |                  \\-Sorghum bicolor\n",
      "  |\n",
      "  |      /-Striga hermonthica\n",
      "   \\Striga\n",
      "         \\-Striga gesnerioides\n"
     ]
    }
   ],
   "source": [
    "print(S.get_ascii(attributes=['sci_name']))"
   ]
  },
  {
   "cell_type": "code",
   "execution_count": 45,
   "metadata": {},
   "outputs": [],
   "source": [
    "S.show(tree_style=species_style)"
   ]
  },
  {
   "cell_type": "markdown",
   "metadata": {},
   "source": [
    "Use $S$ to get a mapping from protein accession to the species scientific name:"
   ]
  },
  {
   "cell_type": "code",
   "execution_count": 80,
   "metadata": {},
   "outputs": [],
   "source": [
    "tx_to_name = {l.name: l.sci_name for l in S}\n",
    "acc_to_name = {acc: tx_to_name[acc_to_tx[acc]] for acc in acc_to_tx}"
   ]
  },
  {
   "cell_type": "markdown",
   "metadata": {},
   "source": [
    "Load the gene tree $G$:"
   ]
  },
  {
   "cell_type": "code",
   "execution_count": 52,
   "metadata": {},
   "outputs": [],
   "source": [
    "G = Tree('Data/BAJ06366.1.genetree')"
   ]
  },
  {
   "cell_type": "markdown",
   "metadata": {},
   "source": [
    "Root the gene tree using the midpoint method (a root is required by our algorithms, but its location does not change the results):"
   ]
  },
  {
   "cell_type": "code",
   "execution_count": 53,
   "metadata": {},
   "outputs": [],
   "source": [
    "G.set_outgroup(G.get_midpoint_outgroup())"
   ]
  },
  {
   "cell_type": "markdown",
   "metadata": {},
   "source": [
    "Label the leaves of G with their corresponding TaxIDs and scientific names:"
   ]
  },
  {
   "cell_type": "code",
   "execution_count": 54,
   "metadata": {},
   "outputs": [],
   "source": [
    "for l in G:\n",
    "    l.accession = l.name\n",
    "    l.name = acc_to_tx[l.name]\n",
    "    l.sci_name = S.search_nodes(name=l.name)[0].sci_name"
   ]
  },
  {
   "cell_type": "code",
   "execution_count": 55,
   "metadata": {},
   "outputs": [
    {
     "name": "stdout",
     "output_type": "stream",
     "text": [
      "\n",
      "            /-Triticum dicoccoides, XP_037439433.1, 85692\n",
      "         /-|\n",
      "      /-|   \\-Triticum aestivum, KAF7063565.1, 4565\n",
      "     |  |\n",
      "   /-|   \\-Triticum dicoccoides, XP_037439440.1, 85692\n",
      "  |  |\n",
      "  |   \\-Brachypodium distachyon, XP_003568978.1, 15368\n",
      "  |\n",
      "  |      /-Sorghum bicolor, XP_021315060.1, 4558\n",
      "--|   /-|\n",
      "  |  |   \\-Sorghum bicolor, KAG0549370.1, 4558\n",
      "  |  |\n",
      "  |  |      /-Setaria italica, XP_004961077.1, 4555\n",
      "  |  |     |\n",
      "   \\-|     |         /-Setaria italica, XP_004956429.1, 4555\n",
      "     |   /-|      /-|\n",
      "     |  |  |     |  |   /-Setaria viridis, XP_034578836.1, 4556\n",
      "     |  |  |   /-|   \\-|\n",
      "     |  |  |  |  |      \\-Setaria viridis, TKW32332.1, 4556\n",
      "     |  |   \\-|  |\n",
      "      \\-|     |   \\-Setaria viridis, TKW32329.1, 4556\n",
      "        |     |\n",
      "        |      \\-Setaria italica, RCV11063.1, 4555\n",
      "        |\n",
      "        |   /-Striga hermonthica, BAJ06366.1, 68872\n",
      "         \\-|\n",
      "            \\-Striga gesnerioides, BAJ09025.1, 46029\n"
     ]
    }
   ],
   "source": [
    "print(G.get_ascii(attributes=['sci_name', 'accession', 'name']))"
   ]
  },
  {
   "cell_type": "markdown",
   "metadata": {},
   "source": [
    "**Detecting HGT**"
   ]
  },
  {
   "cell_type": "markdown",
   "metadata": {},
   "source": [
    "We can see that the *Striga* clade branches with *Setaria* instead of the whole *Setaria*/*Sorghum* clade, indicating a horizontal gene transfer.  \n",
    "Clade Displacement Index confirms this unexpected branching."
   ]
  },
  {
   "cell_type": "code",
   "execution_count": 130,
   "metadata": {
    "scrolled": true
   },
   "outputs": [
    {
     "name": "stdout",
     "output_type": "stream",
     "text": [
      "CDI of the Striga clade between the gene and the species trees is equal to 0.0\n"
     ]
    }
   ],
   "source": [
    "target_taxids = {'68872', '46029'}\n",
    "gs = get_multisplit_from_target(G, target_taxids)\n",
    "ss = get_multisplit_from_target(S, target_taxids)\n",
    "CDI = multisplit_distance(gs, ss)\n",
    "print('CDI of the Striga clade between the gene and the species trees is equal to', CDI)"
   ]
  },
  {
   "cell_type": "markdown",
   "metadata": {},
   "source": [
    "Non-zero CDI of the striga clade indicates a displacement of this clade, which suggests that the clade's ancestor acquired the gene through a horizontal gene transfer.  "
   ]
  },
  {
   "cell_type": "markdown",
   "metadata": {},
   "source": [
    "**HGT support**"
   ]
  },
  {
   "cell_type": "markdown",
   "metadata": {},
   "source": [
    "We can now check if this unexpected location of *Setaria* clade is supported by the bootstrap replicates.  \n",
    "We will reload the gene tree so that its leaves are labeled with protein accessions instead of TaxIDs. "
   ]
  },
  {
   "cell_type": "code",
   "execution_count": 71,
   "metadata": {},
   "outputs": [],
   "source": [
    "G = Tree('Data/BAJ06366.1.genetree')\n",
    "G.set_outgroup(G.get_midpoint_outgroup())"
   ]
  },
  {
   "cell_type": "markdown",
   "metadata": {},
   "source": [
    "Now, we will load the bootstrapped trees (with leaves labeled by protein accessions).  "
   ]
  },
  {
   "cell_type": "code",
   "execution_count": 72,
   "metadata": {},
   "outputs": [
    {
     "name": "stdout",
     "output_type": "stream",
     "text": [
      "100 bootstrapped trees loaded\n"
     ]
    }
   ],
   "source": [
    "with open('Data/BAJ06366.1.boottrees') as h:\n",
    "    boottrees = [Tree(l) for l in h]\n",
    "for T in boottrees:\n",
    "    T.set_outgroup(T.get_midpoint_outgroup())\n",
    "print(len(boottrees), 'bootstrapped trees loaded')"
   ]
  },
  {
   "cell_type": "markdown",
   "metadata": {},
   "source": [
    "We will compute the CDI of the striga clade between the maximum likelihood tree and each of the bootstrapped trees. "
   ]
  },
  {
   "cell_type": "code",
   "execution_count": 65,
   "metadata": {},
   "outputs": [],
   "source": [
    "target_accessions = {'BAJ06366.1', 'BAJ09025.1'}"
   ]
  },
  {
   "cell_type": "code",
   "execution_count": 73,
   "metadata": {},
   "outputs": [],
   "source": [
    "striga_CDIs = []\n",
    "for T in boottrees:\n",
    "    gs = get_multisplit_from_target(G, target_accessions)\n",
    "    ts = get_multisplit_from_target(T, target_accessions)\n",
    "    CDI = multisplit_distance(gs, ts) \n",
    "    striga_CDIs.append(CDI)"
   ]
  },
  {
   "cell_type": "markdown",
   "metadata": {},
   "source": [
    "Plot the distribution of CDIs on a histogram:"
   ]
  },
  {
   "cell_type": "code",
   "execution_count": 74,
   "metadata": {},
   "outputs": [
    {
     "data": {
      "image/png": "[encoded data removed]",
      "text/plain": [
       "<Figure size 432x288 with 1 Axes>"
      ]
     },
     "metadata": {
      "needs_background": "light"
     },
     "output_type": "display_data"
    }
   ],
   "source": [
    "plt.figure()\n",
    "plt.hist(striga_CDIs)\n",
    "plt.title('CDIs of the Striga clade')\n",
    "plt.show()"
   ]
  },
  {
   "cell_type": "markdown",
   "metadata": {},
   "source": [
    "We can see that the majority of replicates support the location of the Striga clade in the gene tree (CDI=0), but in nearly 40% of the replicates the clade is located differently (CDI>0).  "
   ]
  },
  {
   "cell_type": "markdown",
   "metadata": {},
   "source": [
    "To analyze how the *Striga* clade's location changes, we'll check what clades it branches with in the bootstrap replicates.  "
   ]
  },
  {
   "cell_type": "code",
   "execution_count": 86,
   "metadata": {},
   "outputs": [],
   "source": [
    "nbhoods = []\n",
    "for T in boottrees:\n",
    "    neighbours = get_multisplit_from_target(T, target_accessions)\n",
    "    neighbours = [sorted([acc_to_name[acc] for acc in component]) for component in neighbours]\n",
    "    neighbours.sort()\n",
    "    # convert a list of lists to a tuple of tuples:\n",
    "    neighbours = tuple(tuple(n) for n in neighbours)\n",
    "    nbhoods.append(neighbours)\n",
    "nbhoods = Counter(nbhoods)"
   ]
  },
  {
   "cell_type": "code",
   "execution_count": 88,
   "metadata": {},
   "outputs": [
    {
     "data": {
      "text/plain": [
       "Counter({(('Brachypodium distachyon',\n",
       "           'Triticum aestivum',\n",
       "           'Triticum dicoccoides',\n",
       "           'Triticum dicoccoides'),\n",
       "          ('Setaria italica',\n",
       "           'Setaria italica',\n",
       "           'Setaria italica',\n",
       "           'Setaria viridis',\n",
       "           'Setaria viridis',\n",
       "           'Setaria viridis',\n",
       "           'Sorghum bicolor',\n",
       "           'Sorghum bicolor')): 23,\n",
       "         (('Brachypodium distachyon',\n",
       "           'Setaria italica',\n",
       "           'Setaria italica',\n",
       "           'Setaria italica',\n",
       "           'Setaria viridis',\n",
       "           'Setaria viridis',\n",
       "           'Setaria viridis',\n",
       "           'Triticum aestivum',\n",
       "           'Triticum dicoccoides',\n",
       "           'Triticum dicoccoides'),\n",
       "          ('Sorghum bicolor', 'Sorghum bicolor')): 10,\n",
       "         (('Brachypodium distachyon',\n",
       "           'Sorghum bicolor',\n",
       "           'Sorghum bicolor',\n",
       "           'Triticum aestivum',\n",
       "           'Triticum dicoccoides',\n",
       "           'Triticum dicoccoides'),\n",
       "          ('Setaria italica',\n",
       "           'Setaria italica',\n",
       "           'Setaria italica',\n",
       "           'Setaria viridis',\n",
       "           'Setaria viridis',\n",
       "           'Setaria viridis')): 58,\n",
       "         (('Brachypodium distachyon',\n",
       "           'Setaria italica',\n",
       "           'Setaria italica',\n",
       "           'Setaria italica',\n",
       "           'Setaria viridis',\n",
       "           'Setaria viridis',\n",
       "           'Setaria viridis',\n",
       "           'Sorghum bicolor',\n",
       "           'Sorghum bicolor'),\n",
       "          ('Triticum aestivum',\n",
       "           'Triticum dicoccoides',\n",
       "           'Triticum dicoccoides')): 3,\n",
       "         (('Brachypodium distachyon',\n",
       "           'Setaria italica',\n",
       "           'Setaria italica',\n",
       "           'Setaria italica',\n",
       "           'Setaria viridis',\n",
       "           'Setaria viridis',\n",
       "           'Setaria viridis'),\n",
       "          ('Sorghum bicolor',\n",
       "           'Sorghum bicolor',\n",
       "           'Triticum aestivum',\n",
       "           'Triticum dicoccoides',\n",
       "           'Triticum dicoccoides')): 5,\n",
       "         (('Brachypodium distachyon',),\n",
       "          ('Setaria italica',\n",
       "           'Setaria italica',\n",
       "           'Setaria italica',\n",
       "           'Setaria viridis',\n",
       "           'Setaria viridis',\n",
       "           'Setaria viridis',\n",
       "           'Sorghum bicolor',\n",
       "           'Sorghum bicolor',\n",
       "           'Triticum aestivum',\n",
       "           'Triticum dicoccoides',\n",
       "           'Triticum dicoccoides')): 1})"
      ]
     },
     "execution_count": 88,
     "metadata": {},
     "output_type": "execute_result"
    }
   ],
   "source": [
    "nbhoods"
   ]
  },
  {
   "cell_type": "markdown",
   "metadata": {},
   "source": [
    "In 23 replicates, the *Striga* clade branches with the Triticum/Brachypodium clade.  \n",
    "Such branching does not indicate a horizontal gene transfer.  \n",
    "We can conclude that although the gene tree shows evidence for a horizontal gene transfer into the *Striga* clade, this event is rather poorly supported.  "
   ]
  },
  {
   "cell_type": "markdown",
   "metadata": {},
   "source": [
    "**Stability of leaf location**"
   ]
  },
  {
   "cell_type": "markdown",
   "metadata": {},
   "source": [
    "Now, for each leaf of the gene tree, we will compute its average CDI over the bootstrapped trees.  \n",
    "This will indicate whether the leaves' location changes over the replicates.  \n",
    "We'll use a function defined at the bottom of this notebook that returns an ete3 tree with leaves labeled by their average CDIs.  "
   ]
  },
  {
   "cell_type": "code",
   "execution_count": 106,
   "metadata": {},
   "outputs": [],
   "source": [
    "B = compute_leaf_CDI('Data/BAJ06366.1.genetree',\n",
    "                     'Data/BAJ06366.1.boottrees')"
   ]
  },
  {
   "cell_type": "code",
   "execution_count": 107,
   "metadata": {},
   "outputs": [],
   "source": [
    "B.set_outgroup(B.get_midpoint_outgroup())"
   ]
  },
  {
   "cell_type": "code",
   "execution_count": 108,
   "metadata": {},
   "outputs": [],
   "source": [
    "for l in B:\n",
    "    l.sci_name = S.search_nodes(name=acc_to_tx[l.name])[0].sci_name"
   ]
  },
  {
   "cell_type": "code",
   "execution_count": 109,
   "metadata": {},
   "outputs": [
    {
     "name": "stdout",
     "output_type": "stream",
     "text": [
      "\n",
      "         /-XP_021315060.1, Sorghum bicolor, 0.01\n",
      "      /-|\n",
      "     |   \\-KAG0549370.1, Sorghum bicolor, 0.01\n",
      "     |\n",
      "     |      /-XP_004961077.1, Setaria italica, 0.15\n",
      "     |     |\n",
      "   /-|     |         /-XP_004956429.1, Setaria italica, 0.11\n",
      "  |  |   /-|      /-|\n",
      "  |  |  |  |     |  |   /-XP_034578836.1, Setaria viridis, 0.09\n",
      "  |  |  |  |   /-|   \\-|\n",
      "  |  |  |  |  |  |      \\-TKW32332.1, Setaria viridis, 0.09\n",
      "  |  |  |   \\-|  |\n",
      "  |   \\-|     |   \\-TKW32329.1, Setaria viridis, 0.42\n",
      "  |     |     |\n",
      "  |     |      \\-RCV11063.1, Setaria italica, 0.45\n",
      "--|     |\n",
      "  |     |   /-BAJ06366.1, Striga hermonthica, 0.0\n",
      "  |      \\-|\n",
      "  |         \\-BAJ09025.1, Striga gesnerioides, 0.0\n",
      "  |\n",
      "  |         /-XP_037439433.1, Triticum dicoccoides, 0.0\n",
      "  |      /-|\n",
      "  |   /-|   \\-KAF7063565.1, Triticum aestivum, 0.0\n",
      "  |  |  |\n",
      "   \\-|   \\-XP_037439440.1, Triticum dicoccoides, 0.0\n",
      "     |\n",
      "      \\-XP_003568978.1, Brachypodium distachyon, 0.35\n"
     ]
    }
   ],
   "source": [
    "print(B.get_ascii(attributes=['name', 'sci_name', 'CDI']))"
   ]
  },
  {
   "cell_type": "code",
   "execution_count": 103,
   "metadata": {},
   "outputs": [],
   "source": [
    "B.show(tree_style=cdi_style)"
   ]
  },
  {
   "cell_type": "markdown",
   "metadata": {},
   "source": [
    "Low CDI values indicate that the locations of leaves, with some exception of *Setaria viridis*' RCV11063.1 protein and *Brachypodium distachyon*'s XP_003568978.1 protein, are stable."
   ]
  },
  {
   "cell_type": "markdown",
   "metadata": {},
   "source": [
    "## Protein AAM94340.1; Vertical inheritance"
   ]
  },
  {
   "cell_type": "markdown",
   "metadata": {},
   "source": [
    "This is an asparagine synthetase protein, randomly selected from *Striga hermonthica*'s proteome.  \n",
    "The gene tree of its homologous family supports a typical vertical inheritance of genetic material without horizontal exchange.  \n",
    "A single gene duplication in *Punica granatum* is the only apparent evolutionary event.  "
   ]
  },
  {
   "cell_type": "markdown",
   "metadata": {},
   "source": [
    "**Loading the data**"
   ]
  },
  {
   "cell_type": "code",
   "execution_count": 111,
   "metadata": {},
   "outputs": [],
   "source": [
    "taxid_table = 'Data/AAM94340.1_taxid_table.tsv'\n",
    "taxid_table = [l.strip().split() for l in open(taxid_table)]"
   ]
  },
  {
   "cell_type": "code",
   "execution_count": 112,
   "metadata": {},
   "outputs": [],
   "source": [
    "taxids = [t for a,t in taxid_table]\n",
    "tx_to_acc = {t:a for a,t in taxid_table}\n",
    "acc_to_tx = {a:t for a,t in taxid_table}"
   ]
  },
  {
   "cell_type": "code",
   "execution_count": 125,
   "metadata": {},
   "outputs": [],
   "source": [
    "S = Tree('Data/AAM94340.1.speciestree')"
   ]
  },
  {
   "cell_type": "code",
   "execution_count": 126,
   "metadata": {},
   "outputs": [
    {
     "name": "stdout",
     "output_type": "stream",
     "text": [
      "\n",
      "               /-Juglans regia\n",
      "              |\n",
      "         /fabids-Trema orientale\n",
      "        |     |\n",
      "   /rosids     \\-Populus alba\n",
      "  |     |\n",
      "  |     |        /-Punica granatum\n",
      "  |      \\Myrtales\n",
      "--|              \\-Eucalyptus grandis\n",
      "  |\n",
      "  |        /-Sesamum indicum\n",
      "  |       |\n",
      "  |       |--Striga hermonthica\n",
      "   \\Lamiales\n",
      "          |--Handroanthus impetiginosus\n",
      "          |\n",
      "           \\-Dorcoceras hygrometricum\n"
     ]
    }
   ],
   "source": [
    "print(S.get_ascii(attributes=['sci_name']))"
   ]
  },
  {
   "cell_type": "code",
   "execution_count": 127,
   "metadata": {},
   "outputs": [],
   "source": [
    "S.show(tree_style=species_style)"
   ]
  },
  {
   "cell_type": "code",
   "execution_count": 159,
   "metadata": {},
   "outputs": [],
   "source": [
    "tx_to_name = {l.name : l.sci_name for l in S}\n",
    "acc_to_name = {acc: tx_to_name[acc_to_tx[acc]] for acc in acc_to_tx}"
   ]
  },
  {
   "cell_type": "code",
   "execution_count": 153,
   "metadata": {},
   "outputs": [],
   "source": [
    "G = Tree('Data/AAM94340.1.genetree')\n",
    "G.set_outgroup(G.get_midpoint_outgroup())\n",
    "for l in G:\n",
    "    l.acc = l.name\n",
    "    l.sci_name = S.search_nodes(name=acc_to_tx[l.name])[0].sci_name"
   ]
  },
  {
   "cell_type": "code",
   "execution_count": 154,
   "metadata": {},
   "outputs": [
    {
     "name": "stdout",
     "output_type": "stream",
     "text": [
      "\n",
      "            /-XP_031397843.1, Punica granatum\n",
      "         /-|\n",
      "      /-|   \\-OWM82211.1, Punica granatum\n",
      "     |  |\n",
      "     |   \\-KCW54483.1, Eucalyptus grandis\n",
      "   /-|\n",
      "  |  |      /-XP_018834473.1, Juglans regia\n",
      "  |  |   /-|\n",
      "  |   \\-|   \\-PON86137.1, Trema orientale\n",
      "--|     |\n",
      "  |      \\-XP_034891943.1, Populus alba\n",
      "  |\n",
      "  |   /-KZV49762.1, Dorcoceras hygrometricum\n",
      "   \\-|\n",
      "     |   /-XP_011097578.1, Sesamum indicum\n",
      "      \\-|\n",
      "        |   /-AAM94340.1, Striga hermonthica\n",
      "         \\-|\n",
      "            \\-PIN18930.1, Handroanthus impetiginosus\n"
     ]
    }
   ],
   "source": [
    "print(G.get_ascii(attributes=['name', 'sci_name']))"
   ]
  },
  {
   "cell_type": "markdown",
   "metadata": {},
   "source": [
    "**Checking for HGT**"
   ]
  },
  {
   "cell_type": "code",
   "execution_count": 35,
   "metadata": {},
   "outputs": [],
   "source": [
    "target_taxids = {'68872'}"
   ]
  },
  {
   "cell_type": "code",
   "execution_count": 131,
   "metadata": {},
   "outputs": [
    {
     "name": "stdout",
     "output_type": "stream",
     "text": [
      "CDI of the Striga clade between the gene and the species trees is equal to 0.0\n"
     ]
    }
   ],
   "source": [
    "gs = get_multisplit_from_target(G, target_taxids)\n",
    "ss = get_multisplit_from_target(S, target_taxids)\n",
    "CDI = multisplit_distance(gs, ss)\n",
    "print('CDI of the Striga clade between the gene and the species trees is equal to', CDI)"
   ]
  },
  {
   "cell_type": "markdown",
   "metadata": {},
   "source": [
    "No displacement of the Striga clade between the gene and the species tree indicates no evidence for HGT into this species, as long as the gene tree is unrooted.  "
   ]
  },
  {
   "cell_type": "markdown",
   "metadata": {},
   "source": [
    "**Gene tree stability analysis**"
   ]
  },
  {
   "cell_type": "code",
   "execution_count": 132,
   "metadata": {},
   "outputs": [],
   "source": [
    "B = compute_leaf_CDI('Data/AAM94340.1.genetree',\n",
    "                     'Data/AAM94340.1.boottrees')"
   ]
  },
  {
   "cell_type": "code",
   "execution_count": 136,
   "metadata": {},
   "outputs": [],
   "source": [
    "for l in B:\n",
    "    l.accession = l.name\n",
    "    l.sci_name = S.search_nodes(name=acc_to_tx[l.name])[0].sci_name"
   ]
  },
  {
   "cell_type": "code",
   "execution_count": 137,
   "metadata": {},
   "outputs": [
    {
     "name": "stdout",
     "output_type": "stream",
     "text": [
      "\n",
      "            /-XP_031397843.1, Punica granatum, 0.0\n",
      "         /-|\n",
      "      /-|   \\-OWM82211.1, Punica granatum, 0.0\n",
      "     |  |\n",
      "     |   \\-KCW54483.1, Eucalyptus grandis, 0.02\n",
      "   /-|\n",
      "  |  |      /-XP_018834473.1, Juglans regia, 0.39\n",
      "  |  |   /-|\n",
      "  |   \\-|   \\-PON86137.1, Trema orientale, 0.39\n",
      "--|     |\n",
      "  |      \\-XP_034891943.1, Populus alba, 1.04\n",
      "  |\n",
      "  |   /-KZV49762.1, Dorcoceras hygrometricum, 0.75\n",
      "   \\-|\n",
      "     |   /-XP_011097578.1, Sesamum indicum, 0.77\n",
      "      \\-|\n",
      "        |   /-AAM94340.1, Striga hermonthica, 0.07\n",
      "         \\-|\n",
      "            \\-PIN18930.1, Handroanthus impetiginosus, 0.07\n"
     ]
    }
   ],
   "source": [
    "print(B.get_ascii(attributes=['name', 'sci_name', 'CDI']))"
   ]
  },
  {
   "cell_type": "code",
   "execution_count": 140,
   "metadata": {},
   "outputs": [],
   "source": [
    "B.show(tree_style=cdi_style)"
   ]
  },
  {
   "cell_type": "markdown",
   "metadata": {},
   "source": [
    "Large values of leaf CDIs indicate that the topology of this tree is unstable.  \n",
    "This is in accordance with low bootstrap values of branches.  \n",
    "However, CDI allows to easily identify the unstable leaves (and, if needed, clades).   \n",
    "In this case, it is the XP_034891943.1 protein of *Populus alba*.  "
   ]
  },
  {
   "cell_type": "markdown",
   "metadata": {},
   "source": [
    "Let's inspect this leaf in more detail. First, load the bootstrapped trees:"
   ]
  },
  {
   "cell_type": "code",
   "execution_count": 150,
   "metadata": {},
   "outputs": [
    {
     "name": "stdout",
     "output_type": "stream",
     "text": [
      "100 bootstrapped trees loaded\n"
     ]
    }
   ],
   "source": [
    "with open('Data/AAM94340.1.boottrees') as h:\n",
    "    boottrees = [Tree(l) for l in h]\n",
    "for T in boottrees:\n",
    "    T.set_outgroup(T.get_midpoint_outgroup())\n",
    "print(len(boottrees), 'bootstrapped trees loaded')"
   ]
  },
  {
   "cell_type": "markdown",
   "metadata": {},
   "source": [
    "First, compute the CDIs and plot them on a histogram:"
   ]
  },
  {
   "cell_type": "code",
   "execution_count": 166,
   "metadata": {},
   "outputs": [],
   "source": [
    "target_accessions = {'XP_034891943.1'}"
   ]
  },
  {
   "cell_type": "code",
   "execution_count": 167,
   "metadata": {},
   "outputs": [],
   "source": [
    "populus_CDIs = []\n",
    "for T in boottrees:\n",
    "    gs = get_multisplit_from_target(G, target_accessions)\n",
    "    ts = get_multisplit_from_target(T, target_accessions)\n",
    "    CDI = multisplit_distance(gs, ts) \n",
    "    populus_CDIs.append(CDI)"
   ]
  },
  {
   "cell_type": "code",
   "execution_count": 168,
   "metadata": {},
   "outputs": [
    {
     "data": {
      "image/png": "[encoded data removed]",
      "text/plain": [
       "<Figure size 432x288 with 1 Axes>"
      ]
     },
     "metadata": {
      "needs_background": "light"
     },
     "output_type": "display_data"
    }
   ],
   "source": [
    "plt.figure()\n",
    "plt.hist(populus_CDIs)\n",
    "plt.title('CDIs of AAM94340.1')\n",
    "plt.show()"
   ]
  },
  {
   "cell_type": "markdown",
   "metadata": {},
   "source": [
    "We can see a distribution of a different type than what we've seen for the *Striga* clade in the previous analysis.  \n",
    "Now, in the majority of replicates, the location of AAM94340.1 is different than in the gene tree.   \n",
    "Most commonly we encounter shifts with CDI equal 2.  \n",
    "The same location is encountered in only 35 out of 100 replicates.  "
   ]
  },
  {
   "cell_type": "markdown",
   "metadata": {},
   "source": [
    "Let's inspect the neighbourhoods of this leaf to see how it changes location between bootstrap replicates.  "
   ]
  },
  {
   "cell_type": "code",
   "execution_count": 180,
   "metadata": {},
   "outputs": [],
   "source": [
    "nbhoods = []\n",
    "for T in boottrees:\n",
    "    neighbours = get_multisplit_from_target(T, target_accessions)\n",
    "    neighbours = [sorted([acc_to_name[acc] for acc in component]) for component in neighbours]\n",
    "    neighbours.sort()\n",
    "    neighbours = tuple(tuple(component) for component in neighbours)\n",
    "    nbhoods.append(neighbours)\n",
    "nbhood_counter = Counter(nbhoods)"
   ]
  },
  {
   "cell_type": "code",
   "execution_count": 181,
   "metadata": {},
   "outputs": [
    {
     "data": {
      "text/plain": [
       "Counter({(('Dorcoceras hygrometricum',\n",
       "           'Eucalyptus grandis',\n",
       "           'Handroanthus impetiginosus',\n",
       "           'Punica granatum',\n",
       "           'Punica granatum',\n",
       "           'Sesamum indicum',\n",
       "           'Striga hermonthica'),\n",
       "          ('Juglans regia', 'Trema orientale')): 35,\n",
       "         (('Dorcoceras hygrometricum',\n",
       "           'Handroanthus impetiginosus',\n",
       "           'Juglans regia',\n",
       "           'Sesamum indicum',\n",
       "           'Striga hermonthica',\n",
       "           'Trema orientale'),\n",
       "          ('Eucalyptus grandis', 'Punica granatum', 'Punica granatum')): 17,\n",
       "         (('Dorcoceras hygrometricum',\n",
       "           'Eucalyptus grandis',\n",
       "           'Handroanthus impetiginosus',\n",
       "           'Juglans regia',\n",
       "           'Punica granatum',\n",
       "           'Punica granatum',\n",
       "           'Sesamum indicum',\n",
       "           'Striga hermonthica'),\n",
       "          ('Trema orientale',)): 26,\n",
       "         (('Dorcoceras hygrometricum',\n",
       "           'Handroanthus impetiginosus',\n",
       "           'Sesamum indicum',\n",
       "           'Striga hermonthica'),\n",
       "          ('Eucalyptus grandis',\n",
       "           'Juglans regia',\n",
       "           'Punica granatum',\n",
       "           'Punica granatum',\n",
       "           'Trema orientale')): 21,\n",
       "         (('Dorcoceras hygrometricum',\n",
       "           'Handroanthus impetiginosus',\n",
       "           'Juglans regia',\n",
       "           'Punica granatum',\n",
       "           'Punica granatum',\n",
       "           'Sesamum indicum',\n",
       "           'Striga hermonthica',\n",
       "           'Trema orientale'),\n",
       "          ('Eucalyptus grandis',)): 1})"
      ]
     },
     "execution_count": 181,
     "metadata": {},
     "output_type": "execute_result"
    }
   ],
   "source": [
    "nbhood_counter"
   ]
  },
  {
   "cell_type": "markdown",
   "metadata": {},
   "source": [
    "Map the neighbourhoods to their CDI values:"
   ]
  },
  {
   "cell_type": "code",
   "execution_count": 183,
   "metadata": {},
   "outputs": [],
   "source": [
    "nbhoods_and_cdis = set(zip(nbhoods, populus_CDIs))"
   ]
  },
  {
   "cell_type": "code",
   "execution_count": 187,
   "metadata": {},
   "outputs": [
    {
     "name": "stdout",
     "output_type": "stream",
     "text": [
      "Neighbourhood 0:\n",
      "Sister 1: Dorcoceras hygrometricum, Handroanthus impetiginosus, Sesamum indicum, Striga hermonthica\n",
      "Sister 2: Eucalyptus grandis, Juglans regia, Punica granatum, Punica granatum, Trema orientale\n",
      "CDI =  2.0\n",
      "Occured 21 times\n",
      "\n",
      "Neighbourhood 1:\n",
      "Sister 1: Dorcoceras hygrometricum, Handroanthus impetiginosus, Juglans regia, Punica granatum, Punica granatum, Sesamum indicum, Striga hermonthica, Trema orientale\n",
      "Sister 2: Eucalyptus grandis\n",
      "CDI =  2.0\n",
      "Occured 1 times\n",
      "\n",
      "Neighbourhood 2:\n",
      "Sister 1: Dorcoceras hygrometricum, Handroanthus impetiginosus, Juglans regia, Sesamum indicum, Striga hermonthica, Trema orientale\n",
      "Sister 2: Eucalyptus grandis, Punica granatum, Punica granatum\n",
      "CDI =  2.0\n",
      "Occured 17 times\n",
      "\n",
      "Neighbourhood 3:\n",
      "Sister 1: Dorcoceras hygrometricum, Eucalyptus grandis, Handroanthus impetiginosus, Juglans regia, Punica granatum, Punica granatum, Sesamum indicum, Striga hermonthica\n",
      "Sister 2: Trema orientale\n",
      "CDI =  1.0\n",
      "Occured 26 times\n",
      "\n",
      "Neighbourhood 4:\n",
      "Sister 1: Dorcoceras hygrometricum, Eucalyptus grandis, Handroanthus impetiginosus, Punica granatum, Punica granatum, Sesamum indicum, Striga hermonthica\n",
      "Sister 2: Juglans regia, Trema orientale\n",
      "CDI =  0.0\n",
      "Occured 35 times\n",
      "\n"
     ]
    }
   ],
   "source": [
    "for i, x in enumerate(nbhoods_and_cdis):\n",
    "    print('Neighbourhood %i:' % i)\n",
    "    print('Sister 1:', ', '.join(x[0][0]))\n",
    "    print('Sister 2:', ', '.join(x[0][1]))\n",
    "    print('CDI = ', x[1])\n",
    "    print('Occured', nbhood_counter[x[0]], 'times')\n",
    "    print()"
   ]
  },
  {
   "cell_type": "markdown",
   "metadata": {},
   "source": [
    "We can see that we have four neighbourhoods for XP_034891943.1 with roughly similar supports (between 17 and 35 replicates).   \n",
    "The neighbourhood from the gene tree, supported by 35 replicates, is the most commonly encountered one.  \n",
    "We have two frequent neighbourhoods with CDI=2. This is why this value is the most common one in the histogram that we've seen above.    "
   ]
  },
  {
   "cell_type": "markdown",
   "metadata": {},
   "source": [
    "In contrast, *Striga hermontica* has the same neighbourhood in 93 out of 100 replicates."
   ]
  },
  {
   "cell_type": "markdown",
   "metadata": {},
   "source": [
    "## Module imports & function definitions \n",
    "Run this section before analysis."
   ]
  },
  {
   "cell_type": "code",
   "execution_count": 67,
   "metadata": {},
   "outputs": [],
   "source": [
    "from ete3 import Tree, TreeStyle, NodeStyle, AttrFace, faces, TextFace\n",
    "from warnings import warn\n",
    "from collections import Counter\n",
    "import numpy as np\n",
    "from matplotlib import pyplot as plt"
   ]
  },
  {
   "cell_type": "code",
   "execution_count": 34,
   "metadata": {},
   "outputs": [],
   "source": [
    "def LCA(T, leaf_set):\n",
    "    # Since we use leaf pointers not leaf labels in this implementation, \n",
    "    # we can use the fact that leaves are unique\n",
    "    # and traverse the tree in postorder, storing how many leaves we're lacking to \n",
    "    # be the common ancestor.\n",
    "    n = len(leaf_set)\n",
    "    if n == 1:\n",
    "        return list(leaf_set)[0]\n",
    "    assert leaf_set.issubset(set(T)), 'Target leaf set is not a subset of leaves of T!'\n",
    "    number_below = {g: 0 for g in T.traverse()}\n",
    "    prev_node = T\n",
    "    for g in T.traverse('postorder'):\n",
    "        if g.is_leaf():\n",
    "            if g in leaf_set:\n",
    "                number_below[g] = 1\n",
    "        else:\n",
    "            nb = sum(number_below[c] for c in g.children) \n",
    "            if nb == n:\n",
    "                return g\n",
    "            else:\n",
    "                number_below[g] = nb   \n",
    "    if nb == n:\n",
    "        return T\n",
    "    else:\n",
    "        raise RuntimeError('Unable to find LCA!')"
   ]
  },
  {
   "cell_type": "code",
   "execution_count": 35,
   "metadata": {},
   "outputs": [],
   "source": [
    "def get_separating_branch(T, target_names):\n",
    "    \"\"\"\n",
    "    If target_names are strictly monophyletic in T, return the end node of the branch \n",
    "    that separates them from the other leaves. \n",
    "    Otherwise, return None.\n",
    "    \n",
    "    Parameters\n",
    "    ----------\n",
    "    T: ete3 Tree object\n",
    "    target_names: a set of species names. \n",
    "        It is assumed that leaves of T are labelled with species names, without gene identifiers. \n",
    "    \"\"\"\n",
    "    if len(T.children) == 3:\n",
    "        warn('The tree appears to be unrooted!')\n",
    "    target_leaves = {l for l in T if l.name in target_names}\n",
    "    other_leaves = {l for l in T if l.name not in target_names}\n",
    "    if not target_leaves or not other_leaves:\n",
    "        print('No 1')\n",
    "        return None\n",
    "    target_names = set(target_names)\n",
    "    other_names = {l.name for l in other_leaves}\n",
    "    \n",
    "    target_lca = LCA(T, target_leaves)\n",
    "    other_lca = LCA(T, other_leaves)\n",
    "    names_under_target_lca = {l.name for l in target_lca}\n",
    "    names_under_other_lca = {l.name for l in other_lca}\n",
    "    # print(target_names, other_names, names_under_target_lca, names_under_other_lca)\n",
    "    if target_names == names_under_target_lca:\n",
    "        return target_lca\n",
    "    elif other_names == names_under_other_lca:\n",
    "        return other_lca\n",
    "    else:\n",
    "        print('No 2')\n",
    "        return None"
   ]
  },
  {
   "cell_type": "code",
   "execution_count": 36,
   "metadata": {},
   "outputs": [],
   "source": [
    "def get_multisplit_from_target(T, target_names, verbose=False):\n",
    "    \"\"\"\n",
    "    Returns a list of clades going outwards from the LCA of target_names. \n",
    "    That is, a forest obtained by removing the clade of target_names together with its parent node.\n",
    "    Effectively, this is an implementation of get_split_from_target for non-binary trees.\n",
    "    Assumes that T is rooted. Applying this function to an unrooted tree will give improper results.\n",
    "    The position of the root does not matter, so the tree may be rooted arbitrarily.\n",
    "    \n",
    "    Parameters\n",
    "    ---------\n",
    "    T: ete3 Tree object\n",
    "        The tree to process.\n",
    "        It is assumed that leaves of T are named using species names.\n",
    "    target_names: iterable\n",
    "        The set of species names defining the reference clade.\n",
    "        The target names need to form a strictly monophyletic clade in T. \n",
    "        Otherwise, an error is raised.\n",
    "    \n",
    "    Returns: list\n",
    "        A list of lists. Each component contains leaf labels of T corresponding\n",
    "        to a clade going outwards from the target clade.\n",
    "    \n",
    "    \"\"\"\n",
    "    # assert check_strict_monophyly(T, target_names), 'The target leaves are not monophyletic!'\n",
    "    if len(T.children) == 3:\n",
    "        warn('The tree appears to be unrooted!')\n",
    "    target_leaves = {l for l in T if l.name in target_names}\n",
    "    non_target_leaves = {l for l in T if l.name not in target_names}\n",
    "    assert target_leaves, 'No target found in tree!'\n",
    "    assert len(non_target_leaves)>1, 'Not enough non-target species in tree!'\n",
    "    # print(target_leaves)\n",
    "    lca = LCA(T, target_leaves)\n",
    "    if verbose:\n",
    "        print(lca)\n",
    "    ### We need to handle three cases here: target LCA being the root, one of its children, or another node.\n",
    "    # Case 1:\n",
    "    if lca == T:\n",
    "        # This is the most complex case - need to find LCA of non-target species and return its children\n",
    "        if verbose:\n",
    "            print('Case 1')\n",
    "        lca2 = LCA(T, non_target_leaves)\n",
    "        split = [[l.name for l in c] for c in lca2.children]\n",
    "    elif lca in T.children and len(T.children) > 2:\n",
    "        if verbose:\n",
    "            print('case2')\n",
    "        split = [[l.name for l in c] for c in T.children if c != lca]\n",
    "    elif lca in T.children and len(T.children) == 2:\n",
    "        if verbose:\n",
    "            print('case3')\n",
    "        if lca == T.children[0]:\n",
    "            split = [[l.name for l in c] for c in T.children[1].children]\n",
    "        else: \n",
    "            split = [[l.name for l in c] for c in T.children[0].children]\n",
    "    else:\n",
    "        if verbose:\n",
    "            print('case4')\n",
    "        split = [[l.name for l in c] for c in lca.get_sisters()]  # sisters of lca\n",
    "        split.append([l.name for l in T if l not in lca.up])  # remaining leaves\n",
    "    return split"
   ]
  },
  {
   "cell_type": "code",
   "execution_count": 37,
   "metadata": {},
   "outputs": [],
   "source": [
    "def multisplit_distance(gene_split, species_split, verbose=False):\n",
    "    \"\"\"\n",
    "    Computes the multisplit distance, defined as the minimal absolute difference \n",
    "    of the proportion of each label in the left out-going clade in both trees \n",
    "    over all refinements of species_split.\n",
    "    \n",
    "    Parameters\n",
    "    ----------\n",
    "    split1, split2: iterables\n",
    "        Compared splits. Each component contains a list of leaf labels.\n",
    "        The labels in split2 need to be unique, but in split1 they do not. \n",
    "        Labels are matched between splits by their name.\n",
    "        All labels from gene_split and species_split need to correspond to each other exactly.\n",
    "    \"\"\"\n",
    "    assert len(gene_split) == 2, 'gene_split needs to have length 2'\n",
    "    gene_split_labels = set(l for s in gene_split for l in s)\n",
    "    species_split_labels = set(l for s in species_split for l in s)\n",
    "    if not gene_split_labels == species_split_labels:\n",
    "        raise ValueError('the splits contain different labels:\\n%s\\n%s' % (str(gene_split_labels), str(species_split_labels)))\n",
    "    \n",
    "    # check if labels in split2 are unique:\n",
    "    s2 = Counter()\n",
    "    for cmp in species_split:\n",
    "        for spc in cmp:\n",
    "            s2[spc] += 1\n",
    "    assert set(s2.values()) == {1}, 'non-unique labels in split2!'\n",
    "    \n",
    "    # compute label scores for gene_split\n",
    "    # i.e. the proportion of occurence in the reference split\n",
    "    left_count = Counter(gene_split[0])  \n",
    "    total_count = left_count + Counter(gene_split[1])\n",
    "    gene_label_score = {label: left_count[label]/total_count[label] for label in gene_split_labels}\n",
    "    if verbose:\n",
    "        print(gene_label_score)\n",
    "\n",
    "    distance = 0.\n",
    "    for cmp in species_split:\n",
    "        if verbose:\n",
    "            print(cmp)\n",
    "        s1 = sum(gene_label_score[label] for label in cmp)\n",
    "        s2 = len(cmp) - s1\n",
    "        distance += min(s1, s2)\n",
    "        if verbose:\n",
    "            print('current choices:', s1, s2)\n",
    "            print('current distance:', distance)\n",
    "    assert distance >= 0, 'negative distance - bug!'\n",
    "    return distance"
   ]
  },
  {
   "cell_type": "code",
   "execution_count": 38,
   "metadata": {},
   "outputs": [],
   "source": [
    "def compute_leaf_CDI(tree_file, bootstrap_file):\n",
    "    \"\"\"\n",
    "    Returns an ete3 Tree object constructed from tree_file \n",
    "    with leaves labelled with average branch displacement index\n",
    "    computed from bootstrap replicates from bootstrap_file.\n",
    "    \"\"\"\n",
    "    T = Tree(tree_file)\n",
    "    T.set_outgroup(T.get_midpoint_outgroup())\n",
    "    for l in T:\n",
    "        l.CDI = 0.\n",
    "    B_file = open(bootstrap_file)\n",
    "    N = 0\n",
    "    for B in B_file:\n",
    "        B = Tree(B)\n",
    "        N += 1\n",
    "        B.set_outgroup(B.get_midpoint_outgroup())\n",
    "        for l1 in T:\n",
    "            # l2 = B&l1.name\n",
    "            split1 = get_multisplit_from_target(T, {l1.name})\n",
    "            split2 = get_multisplit_from_target(B, {l1.name})\n",
    "            d = multisplit_distance(split1, split2)\n",
    "            l1.CDI += d\n",
    "    for l in T:\n",
    "        l.CDI /= N\n",
    "    return T"
   ]
  },
  {
   "cell_type": "code",
   "execution_count": 39,
   "metadata": {},
   "outputs": [],
   "source": [
    "def species_layout(node):\n",
    "    style = NodeStyle()\n",
    "    style[\"fgcolor\"] = \"#0f0f0f\"\n",
    "    style[\"size\"] = 0\n",
    "    style[\"vt_line_color\"] = \"black\"\n",
    "    style[\"hz_line_color\"] = \"black\"\n",
    "    style[\"vt_line_width\"] = 3\n",
    "    style[\"hz_line_width\"] = 3\n",
    "    style[\"vt_line_type\"] = 0 # 0 solid, 1 dashed, 2 dotted\n",
    "    style[\"hz_line_type\"] = 0\n",
    "    node.set_style(style)\n",
    "    if node.is_leaf():\n",
    "        faces.add_face_to_node(AttrFace('sci_name', text_prefix=' ', fstyle='italic'), node, column=0, position='branch-right')"
   ]
  },
  {
   "cell_type": "code",
   "execution_count": 100,
   "metadata": {},
   "outputs": [],
   "source": [
    "def gene_layout(node):\n",
    "    style = NodeStyle()\n",
    "    style[\"fgcolor\"] = \"#0f0f0f\"\n",
    "    style[\"size\"] = 0\n",
    "    style[\"vt_line_color\"] = \"black\"\n",
    "    style[\"hz_line_color\"] = \"black\"\n",
    "    style[\"vt_line_width\"] = 3\n",
    "    style[\"hz_line_width\"] = 3\n",
    "    style[\"vt_line_type\"] = 0 # 0 solid, 1 dashed, 2 dotted\n",
    "    style[\"hz_line_type\"] = 0\n",
    "    node.set_style(style)\n",
    "    if node.is_leaf():\n",
    "        faces.add_face_to_node(AttrFace('accession', text_prefix=' ', text_suffix = '; '), node, column=0, position='branch-right')\n",
    "        faces.add_face_to_node(AttrFace('sci_name', text_suffix = '; ', fstyle='italic'), node, column=1, position='branch-right')\n",
    "        # faces.add_face_to_node(AttrFace('CDI', text_prefix = 'CDI=', text_suffix=' ', fgcolor='Navy'), node, column=2, position='branch-right')\n",
    "\n",
    "        # faces.add_face_to_node(TextFace('  ', fsize=8), node, column=1, position='branch-right')\n",
    "    else:\n",
    "        faces.add_face_to_node(AttrFace('support', text_prefix=' ', text_suffix = '  ', fgcolor='red', fsize=8, formatter='%i'), node, column=0, position='branch-top')"
   ]
  },
  {
   "cell_type": "code",
   "execution_count": 99,
   "metadata": {},
   "outputs": [],
   "source": [
    "def cdi_layout(node):\n",
    "    style = NodeStyle()\n",
    "    style[\"fgcolor\"] = \"#0f0f0f\"\n",
    "    style[\"size\"] = 0\n",
    "    style[\"vt_line_color\"] = \"black\"\n",
    "    style[\"hz_line_color\"] = \"black\"\n",
    "    style[\"vt_line_width\"] = 3\n",
    "    style[\"hz_line_width\"] = 3\n",
    "    style[\"vt_line_type\"] = 0 # 0 solid, 1 dashed, 2 dotted\n",
    "    style[\"hz_line_type\"] = 0\n",
    "    node.set_style(style)\n",
    "    if node.is_leaf():\n",
    "        faces.add_face_to_node(AttrFace('sci_name', text_prefix=' ', text_suffix = '', fstyle='italic'), node, column=0, position='branch-right')\n",
    "        faces.add_face_to_node(AttrFace('accession', text_prefix=' ', text_suffix = '; '), node, column=1, position='branch-right')\n",
    "        \n",
    "        faces.add_face_to_node(AttrFace('CDI', text_prefix = 'AvCDI = ', text_suffix=' ', fgcolor='Navy'), node, column=2, position='branch-right')\n",
    "\n",
    "        # faces.add_face_to_node(TextFace('  ', fsize=8), node, column=1, position='branch-right')\n",
    "    elif not node.is_root():\n",
    "        faces.add_face_to_node(AttrFace('support', text_prefix=' ', text_suffix = '  ', fgcolor='red', fsize=8, formatter='%i'), node, column=0, position='branch-top')"
   ]
  },
  {
   "cell_type": "code",
   "execution_count": 42,
   "metadata": {},
   "outputs": [],
   "source": [
    "species_style = TreeStyle()\n",
    "species_style.show_leaf_name = False\n",
    "species_style.layout_fn = species_layout\n",
    "species_style.show_scale = False"
   ]
  },
  {
   "cell_type": "code",
   "execution_count": 43,
   "metadata": {},
   "outputs": [],
   "source": [
    "gene_style = TreeStyle()\n",
    "gene_style.show_leaf_name = False\n",
    "gene_style.layout_fn = gene_layout\n",
    "gene_style.show_scale = False\n",
    "gene_style.show_branch_support = False\n",
    "gene_style.scale = 1200"
   ]
  },
  {
   "cell_type": "code",
   "execution_count": 102,
   "metadata": {},
   "outputs": [],
   "source": [
    "cdi_style = TreeStyle()\n",
    "cdi_style.show_leaf_name = False\n",
    "cdi_style.layout_fn = cdi_layout\n",
    "cdi_style.show_scale = False\n",
    "cdi_style.show_branch_support = False\n",
    "cdi_style.scale = 1200"
   ]
  },
  {
   "cell_type": "code",
   "execution_count": null,
   "metadata": {},
   "outputs": [],
   "source": []
  }
 ],
 "metadata": {
  "kernelspec": {
   "display_name": "Python 3",
   "language": "python",
   "name": "python3"
  },
  "language_info": {
   "codemirror_mode": {
    "name": "ipython",
    "version": 3
   },
   "file_extension": ".py",
   "mimetype": "text/x-python",
   "name": "python",
   "nbconvert_exporter": "python",
   "pygments_lexer": "ipython3",
   "version": "3.8.0"
  }
 },
 "nbformat": 4,
 "nbformat_minor": 2
}
